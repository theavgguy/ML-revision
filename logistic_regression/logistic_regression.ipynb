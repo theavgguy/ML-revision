{
 "cells": [
  {
   "cell_type": "code",
   "execution_count": 14,
   "metadata": {},
   "outputs": [],
   "source": [
    "#setup libraries\n",
    "import numpy as np\n",
    "import matplotlib.pyplot as plt\n",
    "import matplotlib.gridspec as gridspec\n",
    "import sklearn\n",
    "from sklearn.linear_model import LogisticRegression\n",
    "from tensorflow.examples.tutorials.mnist import input_data"
   ]
  },
  {
   "cell_type": "code",
   "execution_count": 15,
   "metadata": {},
   "outputs": [],
   "source": [
    "#constants\n",
    "dim = 28*28 + 1\n",
    "batch_size = 128\n",
    "lr = 0.05\n",
    "iterations= 201\n",
    "threshold = 0.5"
   ]
  },
  {
   "cell_type": "code",
   "execution_count": 16,
   "metadata": {},
   "outputs": [
    {
     "name": "stdout",
     "output_type": "stream",
     "text": [
      "Extracting MNIST-data\\train-images-idx3-ubyte.gz\n",
      "Extracting MNIST-data\\train-labels-idx1-ubyte.gz\n",
      "Extracting MNIST-data\\t10k-images-idx3-ubyte.gz\n",
      "Extracting MNIST-data\\t10k-labels-idx1-ubyte.gz\n"
     ]
    }
   ],
   "source": [
    "#data\n",
    "mnist = input_data.read_data_sets(\"MNIST-data\", one_hot=False)\n",
    "x_, y_ = mnist.train.next_batch(60000)\n",
    "x_test,y_test = mnist.test.next_batch(10000)"
   ]
  },
  {
   "cell_type": "code",
   "execution_count": 17,
   "metadata": {},
   "outputs": [],
   "source": [
    "#for binary classifier extract samples of 2 classes\n",
    "def dataset(label1,label2):\n",
    "    Y = []\n",
    "    X = []\n",
    "    for e in range(60000):\n",
    "        if y_[e]==label1:\n",
    "            Y.append(0)\n",
    "            X.append(x_[e])\n",
    "        elif y_[e]==label2:\n",
    "            Y.append(1)\n",
    "            X.append(x_[e])\n",
    "    X = np.asarray(X)\n",
    "    Y = np.asarray(Y)\n",
    "\n",
    "\n",
    "    test_Y = []\n",
    "    test_X = []\n",
    "    for e in range(10000):\n",
    "        if y_test[e]==label1:\n",
    "            test_Y.append(0)\n",
    "            test_X.append(x_test[e])\n",
    "        elif y_test[e]==label2:\n",
    "            test_Y.append(1)\n",
    "            test_X.append(x_test[e])\n",
    "    test_X = np.asarray(test_X)\n",
    "    test_Y = np.asarray(test_Y)\n",
    "    \n",
    "    return X,Y,test_X,test_Y"
   ]
  },
  {
   "cell_type": "code",
   "execution_count": 18,
   "metadata": {},
   "outputs": [],
   "source": [
    "#add a bias dimension to features\n",
    "def bias_transform(label1,label2):\n",
    "    X,Y,test_X,test_Y = dataset(label1,label2)\n",
    "    X = np.insert(X,len(X[0]),1,axis=1)\n",
    "    test_X = np.insert(test_X,len(test_X[0]),1,axis=1)\n",
    "    train_total = len(X)\n",
    "    train_epochs = int(train_total/batch_size)\n",
    "    test_total = len(test_X)\n",
    "    test_epochs = int(test_total/batch_size)\n",
    "    \n",
    "    return X,Y,test_X,test_Y,train_epochs,test_epochs"
   ]
  },
  {
   "cell_type": "code",
   "execution_count": 19,
   "metadata": {},
   "outputs": [],
   "source": [
    "#variables\n",
    "def weights_init():\n",
    "    W = np.random.rand(dim)\n",
    "    W = W/1000\n",
    "    return W"
   ]
  },
  {
   "cell_type": "code",
   "execution_count": 20,
   "metadata": {},
   "outputs": [],
   "source": [
    "#forward prop\n",
    "def sigmoid(x):\n",
    "    val = 1./(1.+np.exp(-x))\n",
    "    return val\n",
    "\n",
    "def forward_prop(X,W):\n",
    "    logits = np.dot(X,W)\n",
    "    return sigmoid(logits)\n",
    "\n",
    "#loss function and gradients\n",
    "def BCE_loss(activations,labels):\n",
    "    cost1 = np.ones(len(activations))\n",
    "    cost2 = np.ones(len(activations))\n",
    "    for e in range(len(activations)):\n",
    "        cost1[e] = labels[e]*np.log(activations[e])\n",
    "        cost2[e] = (1-labels[e])*(1-np.log(activations[e]))\n",
    "    cost = np.add(cost1,cost2)\n",
    "    cost = cost.sum()\n",
    "    cost = (-1/len(activations))*cost\n",
    "    return cost\n",
    "\n",
    "def gradient(p,t,X):\n",
    "    if len(p)==0:\n",
    "        print(\"len error in predictions\")\n",
    "    error = p - t\n",
    "    gradients = np.dot(X.T,error)\n",
    "    gradients = np.multiply(gradients,(lr/len(p)))\n",
    "    return gradients\n",
    "\n",
    "def update_rule(G,W):\n",
    "    for e in G:\n",
    "        if e==\"nan\":\n",
    "            print(\"gradient explode\")\n",
    "    W = W - G\n",
    "    return W"
   ]
  },
  {
   "cell_type": "code",
   "execution_count": 21,
   "metadata": {},
   "outputs": [],
   "source": [
    "#for validation and accuracy calculation\n",
    "def classes(predictions,labels):\n",
    "    acc = 0\n",
    "    for v in range(len(predictions)):\n",
    "        if predictions[v]>=threshold and labels[v]==1:\n",
    "            acc+=1\n",
    "        elif predictions[v]<=threshold and labels[v]==0:\n",
    "            acc+=1\n",
    "    return (acc/len(labels))*100\n",
    "    \n",
    "def validation(test_epochs,test_X,test_Y,W):\n",
    "    accuracy = 0\n",
    "    for j in range(test_epochs):\n",
    "        test = test_X[batch_size*j:batch_size*(j+1)]\n",
    "        labels = test_Y[batch_size*j:batch_size*(j+1)]\n",
    "        predictions = forward_prop(test,W)\n",
    "        accuracy = accuracy+classes(predictions,labels)\n",
    "    return accuracy/test_epochs"
   ]
  },
  {
   "cell_type": "code",
   "execution_count": 22,
   "metadata": {},
   "outputs": [],
   "source": [
    "def train(label1, label2):\n",
    "    #setup data\n",
    "    X,Y,test_X,test_Y,train_epochs,test_epochs = bias_transform(label1,label2)\n",
    "    W = weights_init()\n",
    "\n",
    "    losses = []\n",
    "    accuracies = []\n",
    "    itx = []\n",
    "    for i in range(iterations):\n",
    "        loss = 0\n",
    "        acc = 0\n",
    "        for j in range(train_epochs):\n",
    "            train = X[batch_size*j:batch_size*(j+1)]\n",
    "            labels = Y[batch_size*j:batch_size*(j+1)]\n",
    "            predictions = forward_prop(train,W)\n",
    "            g = gradient(predictions,labels,train)\n",
    "            W = update_rule(g,W)\n",
    "            loss = loss+BCE_loss(predictions,labels)\n",
    "            acc = acc+classes(predictions,labels)\n",
    "        losses.append(loss/train_epochs)\n",
    "        accuracies.append(acc/train_epochs)\n",
    "        itx.append(i)\n",
    "        if i%10==0:\n",
    "            #print(\"gradients\",g)\n",
    "            print(\"iteration =\",i)\n",
    "            print(\"loss ={0:.2f}\".format(losses[-1]))\n",
    "            print(\"training accuracy ={0:.2f}\".format(accuracies[-1]))\n",
    "        if i%30==0:\n",
    "            print(\"validation set accuracy ={0:.2f}\".format(validation(test_epochs,test_X,test_Y,W)))\n",
    "    return losses, accuracies, itx, W"
   ]
  },
  {
   "cell_type": "code",
   "execution_count": 23,
   "metadata": {},
   "outputs": [
    {
     "name": "stdout",
     "output_type": "stream",
     "text": [
      "iteration = 0\n",
      "loss =-1.24\n",
      "training accuracy =91.20\n",
      "validation set accuracy =95.16\n",
      "iteration = 10\n",
      "loss =-2.64\n",
      "training accuracy =96.19\n",
      "iteration = 20\n",
      "loss =-2.93\n",
      "training accuracy =96.59\n",
      "iteration = 30\n",
      "loss =-3.10\n",
      "training accuracy =96.83\n",
      "validation set accuracy =96.82\n",
      "iteration = 40\n",
      "loss =-3.20\n",
      "training accuracy =96.94\n",
      "iteration = 50\n",
      "loss =-3.28\n",
      "training accuracy =97.08\n",
      "iteration = 60\n",
      "loss =-3.34\n",
      "training accuracy =97.15\n",
      "validation set accuracy =96.88\n",
      "iteration = 70\n",
      "loss =-3.39\n",
      "training accuracy =97.19\n",
      "iteration = 80\n",
      "loss =-3.44\n",
      "training accuracy =97.26\n",
      "iteration = 90\n",
      "loss =-3.47\n",
      "training accuracy =97.30\n",
      "validation set accuracy =96.82\n",
      "iteration = 100\n",
      "loss =-3.50\n",
      "training accuracy =97.35\n",
      "iteration = 110\n",
      "loss =-3.53\n",
      "training accuracy =97.37\n",
      "iteration = 120\n",
      "loss =-3.56\n",
      "training accuracy =97.36\n",
      "validation set accuracy =96.67\n",
      "iteration = 130\n",
      "loss =-3.58\n",
      "training accuracy =97.37\n",
      "iteration = 140\n",
      "loss =-3.60\n",
      "training accuracy =97.35\n",
      "iteration = 150\n",
      "loss =-3.62\n",
      "training accuracy =97.35\n",
      "validation set accuracy =96.72\n",
      "iteration = 160\n",
      "loss =-3.64\n",
      "training accuracy =97.38\n",
      "iteration = 170\n",
      "loss =-3.65\n",
      "training accuracy =97.39\n",
      "iteration = 180\n",
      "loss =-3.67\n",
      "training accuracy =97.40\n",
      "validation set accuracy =96.77\n",
      "iteration = 190\n",
      "loss =-3.68\n",
      "training accuracy =97.43\n",
      "iteration = 200\n",
      "loss =-3.70\n",
      "training accuracy =97.44\n"
     ]
    }
   ],
   "source": [
    "losses,accuracies,itx,W = train(3,8)"
   ]
  },
  {
   "cell_type": "code",
   "execution_count": 24,
   "metadata": {},
   "outputs": [
    {
     "data": {
      "text/plain": [
       "[<matplotlib.lines.Line2D at 0x1bd2b9598d0>]"
      ]
     },
     "execution_count": 24,
     "metadata": {},
     "output_type": "execute_result"
    },
    {
     "data": {
      "image/png": "[encoded data removed]",
      "text/plain": [
       "<Figure size 432x288 with 1 Axes>"
      ]
     },
     "metadata": {
      "needs_background": "light"
     },
     "output_type": "display_data"
    }
   ],
   "source": [
    "plt.plot(itx,losses,'r')"
   ]
  },
  {
   "cell_type": "code",
   "execution_count": 25,
   "metadata": {},
   "outputs": [
    {
     "name": "stderr",
     "output_type": "stream",
     "text": [
      "C:\\Users\\ragha\\Anaconda3\\envs\\tf1.12\\lib\\site-packages\\sklearn\\linear_model\\logistic.py:433: FutureWarning: Default solver will be changed to 'lbfgs' in 0.22. Specify a solver to silence this warning.\n",
      "  FutureWarning)\n"
     ]
    },
    {
     "name": "stdout",
     "output_type": "stream",
     "text": [
      "Scikit score:  99.74515800203874\n"
     ]
    }
   ],
   "source": [
    "# Scikit Logistic Regression\n",
    "X,Y,test_X,test_Y = dataset(0,4)\n",
    "clf = LogisticRegression()\n",
    "clf.fit(X,Y)\n",
    "\n",
    "#Score is Mean Accuracy\n",
    "scikit_score = clf.score(test_X,test_Y)\n",
    "print ('Scikit score: ', 100*scikit_score)"
   ]
  }
 ],
 "metadata": {
  "kernelspec": {
   "display_name": "Python 3",
   "language": "python",
   "name": "python3"
  },
  "language_info": {
   "codemirror_mode": {
    "name": "ipython",
    "version": 3
   },
   "file_extension": ".py",
   "mimetype": "text/x-python",
   "name": "python",
   "nbconvert_exporter": "python",
   "pygments_lexer": "ipython3",
   "version": "3.6.7"
  }
 },
 "nbformat": 4,
 "nbformat_minor": 2
}
