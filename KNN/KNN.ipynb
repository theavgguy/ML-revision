{
 "cells": [
  {
   "cell_type": "code",
   "execution_count": 49,
   "metadata": {},
   "outputs": [],
   "source": [
    "import numpy as np\n",
    "import matplotlib.pyplot as plt\n",
    "import matplotlib.gridspec as gridspec\n",
    "from sklearn.neighbors import KNeighborsClassifier\n",
    "from tensorflow.examples.tutorials.mnist import input_data"
   ]
  },
  {
   "cell_type": "code",
   "execution_count": 50,
   "metadata": {},
   "outputs": [
    {
     "name": "stdout",
     "output_type": "stream",
     "text": [
      "Extracting ../MNIST-data\\train-images-idx3-ubyte.gz\n",
      "Extracting ../MNIST-data\\train-labels-idx1-ubyte.gz\n",
      "Extracting ../MNIST-data\\t10k-images-idx3-ubyte.gz\n",
      "Extracting ../MNIST-data\\t10k-labels-idx1-ubyte.gz\n",
      "(12674, 784)\n",
      "(2115, 784)\n"
     ]
    }
   ],
   "source": [
    "#data\n",
    "mnist = input_data.read_data_sets(\"../MNIST-data\", one_hot=False)\n",
    "x_, y_ = mnist.train.next_batch(60000)\n",
    "Y = []\n",
    "X = []\n",
    "for e in range(60000):\n",
    "    if y_[e]<=1:\n",
    "        Y.append(y_[e])\n",
    "        X.append(x_[e])\n",
    "X = np.asarray(X)\n",
    "Y = np.asarray(Y)\n",
    "        \n",
    "x_test,y_test = mnist.test.next_batch(10000)\n",
    "test_Y = []\n",
    "test_X = []\n",
    "for e in range(10000):\n",
    "    if y_test[e]<=1:\n",
    "        test_Y.append(y_test[e])\n",
    "        test_X.append(x_test[e])\n",
    "test_X = np.asarray(test_X)\n",
    "test_Y = np.asarray(test_Y)"
   ]
  },
  {
   "cell_type": "code",
   "execution_count": 51,
   "metadata": {},
   "outputs": [],
   "source": [
    "def pixel_dist(p,t):\n",
    "    return (np.sqrt((np.square(np.subtract(p,t))).sum()))/28\n",
    "\n",
    "def plot(samples,indices):\n",
    "    fig = plt.figure(figsize=(2, 2))\n",
    "    gs = gridspec.GridSpec(2,2)\n",
    "    gs.update(wspace=0.05, hspace=0.05)\n",
    "\n",
    "    for i, sample in enumerate(samples):\n",
    "        ax = plt.subplot(gs[i])\n",
    "        plt.title(str([indices[i]]))\n",
    "        plt.axis('off')\n",
    "        ax.set_xticklabels([])\n",
    "        ax.set_yticklabels([])\n",
    "        ax.set_aspect('equal')\n",
    "        plt.imshow(sample.reshape(28, 28), cmap='Greys_r')\n",
    "\n",
    "    return fig\n",
    "\n",
    "def accuracy(labels):\n",
    "    incorrect = []\n",
    "    incorrect_Y = []\n",
    "    acc = 0\n",
    "    for t,r in enumerate(labels):\n",
    "        if r==test_Y[t]:\n",
    "            acc = acc+1\n",
    "        else:\n",
    "            incorrect.append(test_X[t])\n",
    "            incorrect_Y.append(test_Y[t])\n",
    "            \n",
    "    return incorrect, incorrect_Y,acc/len(labels)"
   ]
  },
  {
   "cell_type": "code",
   "execution_count": 52,
   "metadata": {
    "scrolled": true
   },
   "outputs": [
    {
     "name": "stdout",
     "output_type": "stream",
     "text": [
      "Testing on  0 th sample\n",
      "Testing on  100 th sample\n",
      "Testing on  200 th sample\n",
      "Testing on  300 th sample\n",
      "Testing on  400 th sample\n",
      "Testing on  500 th sample\n",
      "Testing on  600 th sample\n",
      "Testing on  700 th sample\n",
      "Testing on  800 th sample\n",
      "Testing on  900 th sample\n",
      "Testing on  1000 th sample\n",
      "Testing on  1100 th sample\n",
      "Testing on  1200 th sample\n",
      "Testing on  1300 th sample\n",
      "Testing on  1400 th sample\n",
      "Testing on  1500 th sample\n",
      "Testing on  1600 th sample\n",
      "Testing on  1700 th sample\n",
      "Testing on  1800 th sample\n",
      "Testing on  1900 th sample\n",
      "Testing on  2000 th sample\n",
      "Testing on  2100 th sample\n"
     ]
    }
   ],
   "source": [
    "#KNN has no training\n",
    "K = 5\n",
    "#metric = average\n",
    "\n",
    "labels = []\n",
    "px_d = np.ones(len(X))\n",
    "for k,e in enumerate(test_X):\n",
    "    if k%100==0:\n",
    "        print(\"Testing on \",k,\"sample\")\n",
    "    #distance with each point in train set\n",
    "    for j in range(len(X)):\n",
    "        px_d[j] = pixel_dist(e,X[j])\n",
    "    px_ds = np.argsort(px_d)\n",
    "    count1 = 0\n",
    "    for i in range(K):\n",
    "        count1 = count1+Y[px_ds[i]]\n",
    "    if count1>=(K-count1):\n",
    "        labels.append(1)\n",
    "    else:\n",
    "        labels.append(0)\n",
    "\n",
    "labels = np.asarray(labels)"
   ]
  },
  {
   "cell_type": "code",
   "execution_count": 53,
   "metadata": {},
   "outputs": [
    {
     "name": "stdout",
     "output_type": "stream",
     "text": [
      "My KNN accuracy = 0.9990543735224586\n"
     ]
    }
   ],
   "source": [
    "incorrect_m,incorrect_my,acc_m = accuracy(labels)\n",
    "print(\"My KNN accuracy =\",acc_m)"
   ]
  },
  {
   "cell_type": "code",
   "execution_count": 54,
   "metadata": {},
   "outputs": [],
   "source": [
    "neigh = KNeighborsClassifier(n_neighbors=15)\n",
    "neigh.fit(X, Y)\n",
    "sk_labels = neigh.predict(test_X)"
   ]
  },
  {
   "cell_type": "code",
   "execution_count": 55,
   "metadata": {},
   "outputs": [
    {
     "name": "stdout",
     "output_type": "stream",
     "text": [
      "Sklearn KNN accuracy = 0.9990543735224586\n"
     ]
    }
   ],
   "source": [
    "incorrect_s,incorrect_sy,acc_s = accuracy(sk_labels)\n",
    "print(\"Sklearn KNN accuracy =\",acc_s)"
   ]
  },
  {
   "cell_type": "code",
   "execution_count": 56,
   "metadata": {},
   "outputs": [
    {
     "data": {
      "image/png": "[encoded data removed]",
      "text/plain": [
       "<matplotlib.figure.Figure at 0x1514cf28>"
      ]
     },
     "execution_count": 56,
     "metadata": {},
     "output_type": "execute_result"
    },
    {
     "data": {
      "image/png": "[encoded data removed]",
      "text/plain": [
       "<matplotlib.figure.Figure at 0x1514cf28>"
      ]
     },
     "metadata": {},
     "output_type": "display_data"
    }
   ],
   "source": [
    "#show incorrect ones\n",
    "incorrect = [incorrect_m[0],incorrect_m[1],incorrect_s[0],incorrect_s[1]]\n",
    "incorrect_Y = [incorrect_my[0],incorrect_my[1],incorrect_sy[0],incorrect_sy[1]]\n",
    "plot(incorrect,incorrect_Y)"
   ]
  },
  {
   "cell_type": "code",
   "execution_count": null,
   "metadata": {},
   "outputs": [],
   "source": []
  }
 ],
 "metadata": {
  "kernelspec": {
   "display_name": "Python 3",
   "language": "python",
   "name": "python3"
  },
  "language_info": {
   "codemirror_mode": {
    "name": "ipython",
    "version": 3
   },
   "file_extension": ".py",
   "mimetype": "text/x-python",
   "name": "python",
   "nbconvert_exporter": "python",
   "pygments_lexer": "ipython3",
   "version": "3.6.4"
  }
 },
 "nbformat": 4,
 "nbformat_minor": 2
}
