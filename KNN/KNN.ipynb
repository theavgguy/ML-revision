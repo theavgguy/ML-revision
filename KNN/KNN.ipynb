{
 "cells": [
  {
   "cell_type": "code",
   "execution_count": 1,
   "metadata": {},
   "outputs": [],
   "source": [
    "#import libraries\n",
    "import numpy as np\n",
    "import matplotlib.pyplot as plt\n",
    "import matplotlib.gridspec as gridspec\n",
    "from sklearn.neighbors import KNeighborsClassifier\n",
    "from tensorflow.examples.tutorials.mnist import input_data"
   ]
  },
  {
   "cell_type": "code",
   "execution_count": 2,
   "metadata": {},
   "outputs": [
    {
     "name": "stdout",
     "output_type": "stream",
     "text": [
      "WARNING:tensorflow:From <ipython-input-2-884aefe3392f>:2: read_data_sets (from tensorflow.contrib.learn.python.learn.datasets.mnist) is deprecated and will be removed in a future version.\n",
      "Instructions for updating:\n",
      "Please use alternatives such as official/mnist/dataset.py from tensorflow/models.\n",
      "WARNING:tensorflow:From C:\\Users\\ragha\\Anaconda3\\envs\\tf1.12\\lib\\site-packages\\tensorflow\\contrib\\learn\\python\\learn\\datasets\\mnist.py:260: maybe_download (from tensorflow.contrib.learn.python.learn.datasets.base) is deprecated and will be removed in a future version.\n",
      "Instructions for updating:\n",
      "Please write your own downloading logic.\n",
      "WARNING:tensorflow:From C:\\Users\\ragha\\Anaconda3\\envs\\tf1.12\\lib\\site-packages\\tensorflow\\contrib\\learn\\python\\learn\\datasets\\mnist.py:262: extract_images (from tensorflow.contrib.learn.python.learn.datasets.mnist) is deprecated and will be removed in a future version.\n",
      "Instructions for updating:\n",
      "Please use tf.data to implement this functionality.\n",
      "Extracting MNIST-data\\train-images-idx3-ubyte.gz\n",
      "WARNING:tensorflow:From C:\\Users\\ragha\\Anaconda3\\envs\\tf1.12\\lib\\site-packages\\tensorflow\\contrib\\learn\\python\\learn\\datasets\\mnist.py:267: extract_labels (from tensorflow.contrib.learn.python.learn.datasets.mnist) is deprecated and will be removed in a future version.\n",
      "Instructions for updating:\n",
      "Please use tf.data to implement this functionality.\n",
      "Extracting MNIST-data\\train-labels-idx1-ubyte.gz\n",
      "Extracting MNIST-data\\t10k-images-idx3-ubyte.gz\n",
      "Extracting MNIST-data\\t10k-labels-idx1-ubyte.gz\n",
      "WARNING:tensorflow:From C:\\Users\\ragha\\Anaconda3\\envs\\tf1.12\\lib\\site-packages\\tensorflow\\contrib\\learn\\python\\learn\\datasets\\mnist.py:290: DataSet.__init__ (from tensorflow.contrib.learn.python.learn.datasets.mnist) is deprecated and will be removed in a future version.\n",
      "Instructions for updating:\n",
      "Please use alternatives such as official/mnist/dataset.py from tensorflow/models.\n"
     ]
    }
   ],
   "source": [
    "#data\n",
    "mnist = input_data.read_data_sets(\"MNIST-data\", one_hot=False)\n",
    "x_, y_ = mnist.train.next_batch(60000)\n",
    "x_test,y_test = mnist.test.next_batch(10000)"
   ]
  },
  {
   "cell_type": "code",
   "execution_count": 3,
   "metadata": {},
   "outputs": [],
   "source": [
    "#for binary classifier extract samples of 2 classes\n",
    "def dataset(label1,label2):\n",
    "    Y = []\n",
    "    X = []\n",
    "    for e in range(60000):\n",
    "        if y_[e]==label1:\n",
    "            Y.append(0)\n",
    "            X.append(x_[e])\n",
    "        elif y_[e]==label2:\n",
    "            Y.append(1)\n",
    "            X.append(x_[e])\n",
    "    X = np.asarray(X)\n",
    "    Y = np.asarray(Y)\n",
    "\n",
    "\n",
    "    test_Y = []\n",
    "    test_X = []\n",
    "    for e in range(10000):\n",
    "        if y_test[e]==label1:\n",
    "            test_Y.append(0)\n",
    "            test_X.append(x_test[e])\n",
    "        elif y_test[e]==label2:\n",
    "            test_Y.append(1)\n",
    "            test_X.append(x_test[e])\n",
    "    test_X = np.asarray(test_X)\n",
    "    test_Y = np.asarray(test_Y)\n",
    "    \n",
    "    return X,Y,test_X,test_Y"
   ]
  },
  {
   "cell_type": "code",
   "execution_count": 4,
   "metadata": {},
   "outputs": [],
   "source": [
    "def pixel_dist(p,t):\n",
    "    return (np.sqrt((np.square(np.subtract(p,t))).sum()))/28\n",
    "\n",
    "def plot(samples,labels):\n",
    "    w=10\n",
    "    h=10\n",
    "    fig=plt.figure(figsize=(2, 2))\n",
    "    columns = 2\n",
    "    rows = 1\n",
    "    for i in range(1, columns*rows +1):\n",
    "        sample = samples[i-1]\n",
    "        fig.add_subplot(rows, columns, i)\n",
    "        plt.title(str([labels[i-1]]))\n",
    "        plt.imshow(sample.reshape(28,28), cmap='Greys_r')\n",
    "    plt.show()\n",
    "\n",
    "def accuracy(labels,test_Y,test_X):\n",
    "    incorrect = []\n",
    "    incorrect_Y = []\n",
    "    acc = 0\n",
    "    for t,r in enumerate(labels):\n",
    "        if r==test_Y[t]:\n",
    "            acc = acc+1\n",
    "        else:\n",
    "            incorrect.append(test_X[t])\n",
    "            incorrect_Y.append(r)\n",
    "            \n",
    "    return incorrect, incorrect_Y,acc/len(labels)"
   ]
  },
  {
   "cell_type": "code",
   "execution_count": 5,
   "metadata": {
    "scrolled": true
   },
   "outputs": [],
   "source": [
    "def train(K,label1,label2):\n",
    "    #setup data\n",
    "    X,Y,test_X,test_Y = dataset(label1,label2)\n",
    "    \n",
    "    labels = []\n",
    "    px_d = np.ones(len(X))\n",
    "    for k,e in enumerate(test_X):\n",
    "        if k%100==0:\n",
    "            print(\"Testing on \",k,\"sample\")\n",
    "        #distance with each point in train set\n",
    "        for j in range(len(X)):\n",
    "            px_d[j] = pixel_dist(e,X[j])\n",
    "        px_ds = np.argsort(px_d)\n",
    "        count1 = 0\n",
    "        for i in range(K):\n",
    "            count1 = count1+Y[px_ds[i]]\n",
    "        if count1>=(K-count1):\n",
    "            labels.append(1)\n",
    "        else:\n",
    "            labels.append(0)\n",
    "\n",
    "    return np.asarray(labels),test_Y,test_X"
   ]
  },
  {
   "cell_type": "code",
   "execution_count": 6,
   "metadata": {},
   "outputs": [
    {
     "name": "stdout",
     "output_type": "stream",
     "text": [
      "Testing on  0 sample\n",
      "Testing on  100 sample\n",
      "Testing on  200 sample\n",
      "Testing on  300 sample\n",
      "Testing on  400 sample\n",
      "Testing on  500 sample\n",
      "Testing on  600 sample\n",
      "Testing on  700 sample\n",
      "Testing on  800 sample\n",
      "Testing on  900 sample\n",
      "Testing on  1000 sample\n",
      "Testing on  1100 sample\n",
      "Testing on  1200 sample\n",
      "Testing on  1300 sample\n",
      "Testing on  1400 sample\n",
      "Testing on  1500 sample\n",
      "Testing on  1600 sample\n",
      "Testing on  1700 sample\n",
      "Testing on  1800 sample\n",
      "Testing on  1900 sample\n",
      "Testing on  2000 sample\n",
      "Testing on  2100 sample\n",
      "My KNN accuracy = 0.9990543735224586\n",
      "Sklearn KNN accuracy = 0.9990543735224586\n"
     ]
    }
   ],
   "source": [
    "labels,test_Y,test_X = train(5,0,1)\n",
    "incorrect_m,incorrect_my,acc_m = accuracy(labels,test_Y,test_X)\n",
    "print(\"My KNN accuracy =\",acc_m)\n",
    "\n",
    "X,Y,test_X,test_Y = dataset(0,1)\n",
    "neigh = KNeighborsClassifier(n_neighbors=5)\n",
    "neigh.fit(X, Y)\n",
    "sk_labels = neigh.predict(test_X)\n",
    "_,__,acc_s = accuracy(sk_labels,test_Y,test_X)\n",
    "print(\"Sklearn KNN accuracy =\",acc_s)"
   ]
  },
  {
   "cell_type": "code",
   "execution_count": 7,
   "metadata": {},
   "outputs": [
    {
     "data": {
      "image/png": "[encoded data removed]",
      "text/plain": [
       "<Figure size 144x144 with 2 Axes>"
      ]
     },
     "metadata": {
      "needs_background": "light"
     },
     "output_type": "display_data"
    }
   ],
   "source": [
    "#show incorrect ones\n",
    "plot(incorrect_m,incorrect_my)"
   ]
  },
  {
   "cell_type": "markdown",
   "metadata": {},
   "source": [
    "# Some thoughts:\n",
    "We See that the KNN algorithm works very well on MNIST images with the pixels as the features above. This performance is very much related to the fact that a 0 and a 1 look very different and thus pixels as features can very much be used directly to classify. \n",
    "Let's take the case of images of 3 and 8, in this case the images are very similar and thus hard to distinguish without the spatial information. Using the pixels as the features in this case will lead to lower accuracy than above (0,1).\n",
    "\n",
    "Edit: We can improve the classifier by playing with the number of neighbours. Too few neighbours leads to model being highly biased but too many also leads to model being highly variational(overfitting). We can reach a good choice of K(hyperparameter) using l-fold cross validation and grid search to find optimum values of l and K. I will be implementing grid search in the next few experiments."
   ]
  },
  {
   "cell_type": "code",
   "execution_count": 8,
   "metadata": {},
   "outputs": [
    {
     "name": "stdout",
     "output_type": "stream",
     "text": [
      "Testing on  0 sample\n",
      "Testing on  100 sample\n",
      "Testing on  200 sample\n",
      "Testing on  300 sample\n",
      "Testing on  400 sample\n",
      "Testing on  500 sample\n",
      "Testing on  600 sample\n",
      "Testing on  700 sample\n",
      "Testing on  800 sample\n",
      "Testing on  900 sample\n",
      "Testing on  1000 sample\n",
      "Testing on  1100 sample\n",
      "Testing on  1200 sample\n",
      "Testing on  1300 sample\n",
      "Testing on  1400 sample\n",
      "Testing on  1500 sample\n",
      "Testing on  1600 sample\n",
      "Testing on  1700 sample\n",
      "Testing on  1800 sample\n",
      "Testing on  1900 sample\n",
      "My KNN accuracy = 0.9879032258064516\n",
      "Sklearn KNN accuracy = 0.9879032258064516\n"
     ]
    }
   ],
   "source": [
    "labels,test_Y,test_X = train(5,3,8)\n",
    "incorrect_m,incorrect_my,acc_m = accuracy(labels,test_Y,test_X)\n",
    "print(\"My KNN accuracy =\",acc_m)\n",
    "\n",
    "X,Y,test_X,test_Y = dataset(3,8)\n",
    "neigh = KNeighborsClassifier(n_neighbors=5)\n",
    "neigh.fit(X, Y)\n",
    "sk_labels = neigh.predict(test_X)\n",
    "_,__,acc_s = accuracy(sk_labels,test_Y,test_X)\n",
    "print(\"Sklearn KNN accuracy =\",acc_s)"
   ]
  },
  {
   "cell_type": "code",
   "execution_count": 9,
   "metadata": {},
   "outputs": [
    {
     "data": {
      "image/png": "[encoded data removed]",
      "text/plain": [
       "<Figure size 144x144 with 2 Axes>"
      ]
     },
     "metadata": {
      "needs_background": "light"
     },
     "output_type": "display_data"
    }
   ],
   "source": [
    "#show incorrect ones\n",
    "plot(incorrect_m,incorrect_my)"
   ]
  }
 ],
 "metadata": {
  "kernelspec": {
   "display_name": "Python 3",
   "language": "python",
   "name": "python3"
  },
  "language_info": {
   "codemirror_mode": {
    "name": "ipython",
    "version": 3
   },
   "file_extension": ".py",
   "mimetype": "text/x-python",
   "name": "python",
   "nbconvert_exporter": "python",
   "pygments_lexer": "ipython3",
   "version": "3.6.7"
  }
 },
 "nbformat": 4,
 "nbformat_minor": 2
}
